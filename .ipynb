# COVID-19 Data Analysis: Focus on Kenya

## 1. Import Libraries
import pandas as pd
import matplotlib.pyplot as plt
import seaborn as sns

# Set style for plots
sns.set(style="whitegrid")

## 2. Load the Dataset
df = pd.read_csv("owid-covid-data.csv")

## 3. Explore the Dataset
print("Columns:\n", df.columns)
print("\nFirst 5 rows:\n", df.head())
print("\nMissing values:\n", df.isnull().sum())

## 4. Data Cleaning
# Convert date to datetime format
df['date'] = pd.to_datetime(df['date'])

# Filter for Kenya
kenya_df = df[df['location'] == 'Kenya']

# Drop rows with missing total_cases or total_deaths
kenya_df = kenya_df.dropna(subset=['total_cases', 'total_deaths'])

# Fill missing numeric values
kenya_df = kenya_df.fillna(method='ffill')

## 5. EDA: Kenya Line Charts
# Total Cases Over Time
plt.figure(figsize=(10, 5))
plt.plot(kenya_df['date'], kenya_df['total_cases'], label='Total Cases')
plt.title('Total COVID-19 Cases Over Time in Kenya')
plt.xlabel('Date')
plt.ylabel('Total Cases')
plt.legend()
plt.tight_layout()
plt.show()

# Total Deaths Over Time
plt.figure(figsize=(10, 5))
plt.plot(kenya_df['date'], kenya_df['total_deaths'], label='Total Deaths', color='red')
plt.title('Total COVID-19 Deaths Over Time in Kenya')
plt.xlabel('Date')
plt.ylabel('Total Deaths')
plt.legend()
plt.tight_layout()
plt.show()

## 6. Global Comparison: Top Countries by Total Cases
# Get latest date in dataset
latest_date = df['date'].max()

# Filter data to the latest date
latest_df = df[df['date'] == latest_date]

# Drop aggregates like continents or "World"
latest_df = latest_df[latest_df['iso_code'].str.len() == 3]

# Drop rows with NaN in total_cases
latest_df = latest_df.dropna(subset=['total_cases'])

# Sort and select top 10 countries by total cases
top_countries = latest_df.sort_values('total_cases', ascending=False).head(10)

# Bar Chart
plt.figure(figsize=(12, 6))
sns.barplot(data=top_countries, x='location', y='total_cases', palette='viridis')
plt.title('Top 10 Countries by Total COVID-19 Cases')
plt.xlabel('Country')
plt.ylabel('Total Cases')
plt.xticks(rotation=45)
plt.tight_layout()
plt.show()
